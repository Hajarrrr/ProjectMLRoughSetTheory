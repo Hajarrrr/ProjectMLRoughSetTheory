{
 "cells": [
  {
   "cell_type": "code",
   "execution_count": 1,
   "id": "62b2d9ab",
   "metadata": {},
   "outputs": [],
   "source": [
    "import numpy as np\n",
    "import pandas as pd"
   ]
  },
  {
   "cell_type": "code",
   "execution_count": 2,
   "id": "516cb053",
   "metadata": {},
   "outputs": [
    {
     "data": {
      "text/html": [
       "<div>\n",
       "<style scoped>\n",
       "    .dataframe tbody tr th:only-of-type {\n",
       "        vertical-align: middle;\n",
       "    }\n",
       "\n",
       "    .dataframe tbody tr th {\n",
       "        vertical-align: top;\n",
       "    }\n",
       "\n",
       "    .dataframe thead th {\n",
       "        text-align: right;\n",
       "    }\n",
       "</style>\n",
       "<table border=\"1\" class=\"dataframe\">\n",
       "  <thead>\n",
       "    <tr style=\"text-align: right;\">\n",
       "      <th></th>\n",
       "      <th>A</th>\n",
       "      <th>B</th>\n",
       "      <th>C</th>\n",
       "      <th>Q</th>\n",
       "    </tr>\n",
       "  </thead>\n",
       "  <tbody>\n",
       "    <tr>\n",
       "      <th>0</th>\n",
       "      <td>-0.4</td>\n",
       "      <td>-0.3</td>\n",
       "      <td>-0.5</td>\n",
       "      <td>no</td>\n",
       "    </tr>\n",
       "    <tr>\n",
       "      <th>1</th>\n",
       "      <td>-0.4</td>\n",
       "      <td>0.2</td>\n",
       "      <td>-0.1</td>\n",
       "      <td>yes</td>\n",
       "    </tr>\n",
       "    <tr>\n",
       "      <th>2</th>\n",
       "      <td>-0.3</td>\n",
       "      <td>-0.4</td>\n",
       "      <td>-0.3</td>\n",
       "      <td>no</td>\n",
       "    </tr>\n",
       "    <tr>\n",
       "      <th>3</th>\n",
       "      <td>0.3</td>\n",
       "      <td>-0.3</td>\n",
       "      <td>0.0</td>\n",
       "      <td>yes</td>\n",
       "    </tr>\n",
       "    <tr>\n",
       "      <th>4</th>\n",
       "      <td>0.2</td>\n",
       "      <td>-0.3</td>\n",
       "      <td>0.0</td>\n",
       "      <td>yes</td>\n",
       "    </tr>\n",
       "    <tr>\n",
       "      <th>5</th>\n",
       "      <td>0.2</td>\n",
       "      <td>0.0</td>\n",
       "      <td>0.0</td>\n",
       "      <td>no</td>\n",
       "    </tr>\n",
       "  </tbody>\n",
       "</table>\n",
       "</div>"
      ],
      "text/plain": [
       "     A    B    C    Q\n",
       "0 -0.4 -0.3 -0.5   no\n",
       "1 -0.4  0.2 -0.1  yes\n",
       "2 -0.3 -0.4 -0.3   no\n",
       "3  0.3 -0.3  0.0  yes\n",
       "4  0.2 -0.3  0.0  yes\n",
       "5  0.2  0.0  0.0   no"
      ]
     },
     "execution_count": 2,
     "metadata": {},
     "output_type": "execute_result"
    }
   ],
   "source": [
    "filename = 'TestData0.csv'\n",
    "df = pd.read_csv(filename)\n",
    "df"
   ]
  },
  {
   "cell_type": "code",
   "execution_count": 3,
   "id": "f4bb19c4",
   "metadata": {},
   "outputs": [
    {
     "data": {
      "text/html": [
       "<div>\n",
       "<style scoped>\n",
       "    .dataframe tbody tr th:only-of-type {\n",
       "        vertical-align: middle;\n",
       "    }\n",
       "\n",
       "    .dataframe tbody tr th {\n",
       "        vertical-align: top;\n",
       "    }\n",
       "\n",
       "    .dataframe thead th {\n",
       "        text-align: right;\n",
       "    }\n",
       "</style>\n",
       "<table border=\"1\" class=\"dataframe\">\n",
       "  <thead>\n",
       "    <tr style=\"text-align: right;\">\n",
       "      <th></th>\n",
       "      <th>A</th>\n",
       "      <th>B</th>\n",
       "      <th>C</th>\n",
       "      <th>Q</th>\n",
       "    </tr>\n",
       "  </thead>\n",
       "  <tbody>\n",
       "    <tr>\n",
       "      <th>0</th>\n",
       "      <td>-0.4</td>\n",
       "      <td>-0.3</td>\n",
       "      <td>-0.5</td>\n",
       "      <td>0</td>\n",
       "    </tr>\n",
       "    <tr>\n",
       "      <th>1</th>\n",
       "      <td>-0.4</td>\n",
       "      <td>0.2</td>\n",
       "      <td>-0.1</td>\n",
       "      <td>1</td>\n",
       "    </tr>\n",
       "    <tr>\n",
       "      <th>2</th>\n",
       "      <td>-0.3</td>\n",
       "      <td>-0.4</td>\n",
       "      <td>-0.3</td>\n",
       "      <td>0</td>\n",
       "    </tr>\n",
       "    <tr>\n",
       "      <th>3</th>\n",
       "      <td>0.3</td>\n",
       "      <td>-0.3</td>\n",
       "      <td>0.0</td>\n",
       "      <td>1</td>\n",
       "    </tr>\n",
       "    <tr>\n",
       "      <th>4</th>\n",
       "      <td>0.2</td>\n",
       "      <td>-0.3</td>\n",
       "      <td>0.0</td>\n",
       "      <td>1</td>\n",
       "    </tr>\n",
       "    <tr>\n",
       "      <th>5</th>\n",
       "      <td>0.2</td>\n",
       "      <td>0.0</td>\n",
       "      <td>0.0</td>\n",
       "      <td>0</td>\n",
       "    </tr>\n",
       "  </tbody>\n",
       "</table>\n",
       "</div>"
      ],
      "text/plain": [
       "     A    B    C  Q\n",
       "0 -0.4 -0.3 -0.5  0\n",
       "1 -0.4  0.2 -0.1  1\n",
       "2 -0.3 -0.4 -0.3  0\n",
       "3  0.3 -0.3  0.0  1\n",
       "4  0.2 -0.3  0.0  1\n",
       "5  0.2  0.0  0.0  0"
      ]
     },
     "execution_count": 3,
     "metadata": {},
     "output_type": "execute_result"
    }
   ],
   "source": [
    "df['Q']=df['Q'].map({'yes': 1, 'no': 0})\n",
    "df"
   ]
  },
  {
   "cell_type": "code",
   "execution_count": 4,
   "id": "c3fb111b",
   "metadata": {},
   "outputs": [
    {
     "data": {
      "text/plain": [
       "[[0, -0.4, -0.3, -0.5, 0.0],\n",
       " [1, -0.4, 0.2, -0.1, 1.0],\n",
       " [2, -0.3, -0.4, -0.3, 0.0],\n",
       " [3, 0.3, -0.3, 0.0, 1.0],\n",
       " [4, 0.2, -0.3, 0.0, 1.0],\n",
       " [5, 0.2, 0.0, 0.0, 0.0]]"
      ]
     },
     "execution_count": 4,
     "metadata": {},
     "output_type": "execute_result"
    }
   ],
   "source": [
    "X=[[f] + row for f, row in enumerate(df.values.tolist())]\n",
    "X"
   ]
  },
  {
   "cell_type": "code",
   "execution_count": 5,
   "id": "a9a02876",
   "metadata": {},
   "outputs": [],
   "source": [
    "def equival(table , ind ):\n",
    "    J, dicJ = [], {}\n",
    "    for i in range (0,len(table)):\n",
    "        flag = 0\n",
    "        val= table[i][0]\n",
    "        for k in J:\n",
    "            n = [table[next(iter(k), \"end\")][j] == table[i][j] for j in ind]\n",
    "            if 0 not in n:\n",
    "                k.add(val)\n",
    "                dicJ[val] = k\n",
    "                flag = 1\n",
    "                break\n",
    "        if not flag:\n",
    "            J.append(set([val]))\n",
    "            dicJ[val]=J[-1]\n",
    "    #print(J)\n",
    "    #print(dicJ)\n",
    "    #print('\\n')\n",
    "    \n",
    "    return J,dicJ"
   ]
  },
  {
   "cell_type": "code",
   "execution_count": 6,
   "id": "fd4af0a4",
   "metadata": {},
   "outputs": [],
   "source": [
    "def dependency(B):\n",
    "    lowAppList = []\n",
    "    for x in range (0, len(X)):\n",
    "        if equival( X , B )[1][x].issubset(equival( X , A )[1][x]):\n",
    "            lowAppList.append(x)\n",
    "    return lowAppList"
   ]
  },
  {
   "cell_type": "code",
   "execution_count": 7,
   "id": "f1630786",
   "metadata": {},
   "outputs": [],
   "source": [
    "def quickReduct(C):\n",
    "    n=len(X)\n",
    "    R = set()\n",
    "    c=dependency(C)\n",
    "    while True:\n",
    "        T = R\n",
    "        for x in C-R:\n",
    "            t=dependency(T)\n",
    "            r=dependency(R)\n",
    "            ru=dependency(R.union(set([x])))\n",
    "            if (len(ru)/n > len(t)/n):\n",
    "                T = R.union(set([x]))\n",
    "        R = T\n",
    "        if len(r)/n == len(c)/n:\n",
    "                break\n",
    "    return R"
   ]
  },
  {
   "cell_type": "code",
   "execution_count": 8,
   "id": "fb6ff60f",
   "metadata": {},
   "outputs": [
    {
     "data": {
      "text/plain": [
       "{1, 2}"
      ]
     },
     "execution_count": 8,
     "metadata": {},
     "output_type": "execute_result"
    }
   ],
   "source": [
    "A = [len(df.columns)]    \n",
    "B = set([ i for i in range(1,len(df.columns))])\n",
    "FeaturesReduc = quickReduct(B)\n",
    "FeaturesReduc"
   ]
  }
 ],
 "metadata": {
  "kernelspec": {
   "display_name": "Python 3 (ipykernel)",
   "language": "python",
   "name": "python3"
  },
  "language_info": {
   "codemirror_mode": {
    "name": "ipython",
    "version": 3
   },
   "file_extension": ".py",
   "mimetype": "text/x-python",
   "name": "python",
   "nbconvert_exporter": "python",
   "pygments_lexer": "ipython3",
   "version": "3.9.7"
  }
 },
 "nbformat": 4,
 "nbformat_minor": 5
}
